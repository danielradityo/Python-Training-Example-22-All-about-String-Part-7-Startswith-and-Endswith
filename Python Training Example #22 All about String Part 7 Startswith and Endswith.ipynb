{
 "cells": [
  {
   "cell_type": "markdown",
   "metadata": {},
   "source": [
    "# Python Training Example #22 All about String Part 7 Startswith and Endswith"
   ]
  },
  {
   "cell_type": "markdown",
   "metadata": {},
   "source": [
    "## Startswith"
   ]
  },
  {
   "cell_type": "code",
   "execution_count": 6,
   "metadata": {},
   "outputs": [
    {
     "name": "stdout",
     "output_type": "stream",
     "text": [
      "True\n",
      "False\n"
     ]
    }
   ],
   "source": [
    "# .startswith() to check a string begin with a determined sub-string\n",
    "statement = 'Difference between soda and juice are juice is more healthier, and also juice is cheaper'\n",
    "print(statement.startswith('Difference')) #--> will return true if that string was started from determined sub-string \"Difference\"\n",
    "print(statement.startswith('difference')) #--> will return false because that string was started from determined sub-string \"Difference\" not \"difference\" (case sensitive)"
   ]
  },
  {
   "cell_type": "markdown",
   "metadata": {},
   "source": [
    "## Endswith"
   ]
  },
  {
   "cell_type": "code",
   "execution_count": 7,
   "metadata": {},
   "outputs": [
    {
     "name": "stdout",
     "output_type": "stream",
     "text": [
      "True\n",
      "False\n"
     ]
    }
   ],
   "source": [
    "# .endswith() to check a string end with a determined sub-string\n",
    "statement = 'Difference between soda and juice are juice is more healthier, and also juice is cheaper'\n",
    "print(statement.endswith('cheaper')) #--> will return true if that string was ended from determined sub-string \"cheaper\"\n",
    "print(statement.endswith('healthier')) #--> will return false because that string was ended from determined sub-string \"cheaper\" not \"healthier\""
   ]
  },
  {
   "cell_type": "code",
   "execution_count": null,
   "metadata": {},
   "outputs": [],
   "source": []
  }
 ],
 "metadata": {
  "kernelspec": {
   "display_name": "Python 3",
   "language": "python",
   "name": "python3"
  },
  "language_info": {
   "codemirror_mode": {
    "name": "ipython",
    "version": 3
   },
   "file_extension": ".py",
   "mimetype": "text/x-python",
   "name": "python",
   "nbconvert_exporter": "python",
   "pygments_lexer": "ipython3",
   "version": "3.8.5"
  }
 },
 "nbformat": 4,
 "nbformat_minor": 4
}
